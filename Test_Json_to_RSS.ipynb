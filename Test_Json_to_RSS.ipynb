{
 "cells": [
  {
   "cell_type": "code",
   "execution_count": 1,
   "metadata": {},
   "outputs": [],
   "source": [
    "import sys, os, subprocess, argparse, time\n",
    "import json as json\n",
    "import xml.etree.ElementTree as ET\n",
    "import xml.dom.minidom as mindom\n",
    "from xml.sax.saxutils import unescape\n",
    "#json and xml modules are already standard at python >2.6\n",
    "#Sangbaek Lee, Jan. 30 2019\n",
    "#keep every digit in epochtime in the stamps\n",
    "#do not use 3rd party libraries if possible e.g. pip"
   ]
  },
  {
   "cell_type": "code",
   "execution_count": 2,
   "metadata": {},
   "outputs": [],
   "source": [
    "#jsonfilename= 'convert_this_to_XML.json'\n",
    "jsonfilename='original.json'\n",
    "jsonfile = open(jsonfilename,'r')"
   ]
  },
  {
   "cell_type": "code",
   "execution_count": 3,
   "metadata": {},
   "outputs": [],
   "source": [
    "# validate/parse a json file \n",
    "def json_data(myjsonfile):\n",
    "  try:\n",
    "    json_data = json.load(myjsonfile)\n",
    "  except ValueError, e:\n",
    "    return False\n",
    "  return json_data"
   ]
  },
  {
   "cell_type": "code",
   "execution_count": 4,
   "metadata": {},
   "outputs": [],
   "source": [
    "data = json_data(jsonfile)\n",
    "jsonfile.close()\n",
    "if data is False:\n",
    "    print 'The input file is not a proper json configuration. Check the input file.'\n",
    "    exit()"
   ]
  },
  {
   "cell_type": "code",
   "execution_count": 5,
   "metadata": {},
   "outputs": [],
   "source": [
    "# the json file contains square brackets, unnecessary in some senses.\n",
    "# following function removes all the unnecessary square brackets, i.e. if len(list)=1 then list=list[0] iteratively.\n",
    "\n",
    "def list_to_data(data):\n",
    "    dummy=data\n",
    "    while type(dummy) is list and len(dummy)==1:\n",
    "        if len(dummy)==1:\n",
    "            dummy = dummy[0]         \n",
    "    return dummy\n",
    "\n",
    "data = list_to_data(data)\n",
    "# i=0\n",
    "# data = dummy\n",
    "# print 'There are %d unneccessary square bracket(s).'%i\n",
    "# print 'The default is to ignore these brackets. Turn the flag on for BLAHBLAH(TODO)'"
   ]
  },
  {
   "cell_type": "code",
   "execution_count": 6,
   "metadata": {},
   "outputs": [
    {
     "name": "stdout",
     "output_type": "stream",
     "text": [
      "True\n"
     ]
    }
   ],
   "source": [
    "# check the data is restored from json file as dictionary\n",
    "print type(data) is dict"
   ]
  },
  {
   "cell_type": "code",
   "execution_count": 7,
   "metadata": {},
   "outputs": [
    {
     "name": "stdout",
     "output_type": "stream",
     "text": [
      "attempts 2479\n",
      "auger_active 1\n",
      "auger_depend 461\n",
      "create_ts 1548815074000\n",
      "current_ts 1548882608000\n",
      "dispatched 462\n",
      "jobs 64076\n",
      "phase 2\n",
      "succeeded 1957\n",
      "tags [{u'task': [u'decode']}, {u'run': [u'003432', u'003434', u'003435', u'003442', u'003465', u'003480', u'003482', u'003485', u'003488', u'003490', u'003506', u'003512', u'003513', u'003529', u'003530', u'003532', u'003533', u'003534', u'003535', u'003538', u'003540', u'003544', u'003545', u'003547', u'004021']}, {u'coatjava': [u'/group/clas12/packages/coatjava-6b.0.0']}, {u'run_group': [u'rga']}, {u'workDir': [u'/volatile/clas12/rga/production/decoding/6b.0.0']}, {u'mode': [u'decode', u'merge', u'delete', u'move']}, {u'outDir': [u'/cache/mss/clas12/rg-a/production/decoded/6b.0.0']}]\n",
      "undispatched 61657\n",
      "update_ts 1548882307000\n",
      "workflow_id 93294\n",
      "workflow_name rga-decode1_R3432x25_x1300\n",
      "workflow_user clas12\n"
     ]
    }
   ],
   "source": [
    "for keys, values in sorted(data.items()):\n",
    "    print keys, values"
   ]
  },
  {
   "cell_type": "code",
   "execution_count": 8,
   "metadata": {},
   "outputs": [],
   "source": [
    "def nodoublelinebreak(string):\n",
    "    target_string=['\\n\\n','\\n\\t\\n\\t','\\n\\t\\t\\n\\t\\t','\\n\\t\\t\\t\\n\\t\\t\\t']#,'\\n\\t\\t\\t\\t\\n\\t\\t\\t\\t']\n",
    "#     desired_string = ['\\n','\\n\\t','\\n\\t\\t','\\n\\t\\t\\t']#,'\\n\\t\\t\\t\\t']\n",
    "    for i in range(0,len(target_string)):\n",
    "        while string.find(target_string[i]) >= 0:\n",
    "            string = string[:string.find(target_string[i])]+string[string.find(target_string[i])+i+1:]\n",
    "    return string"
   ]
  },
  {
   "cell_type": "code",
   "execution_count": 9,
   "metadata": {},
   "outputs": [],
   "source": [
    "#rss follows xml format with very specific tags: title, link, description(required) + some optional tags (e.g. media, pubDate, guid, url,...)\n",
    "#\n",
    "class rss_object:\n",
    "    def __init__(self, tag_main, title='Test',link='https://clas12mon.jlab.org/',description='description',pubDate=None,guid=None,url=None):\n",
    "        self.type = \"rss_object\"\n",
    "        self.tag_main= tag_main\n",
    "        self.tag_title= ET.SubElement(self.tag_main,\"title\")\n",
    "        self.tag_title.text = title\n",
    "        self.tag_link = ET.SubElement(self.tag_main,\"link\")\n",
    "        self.tag_link.text = link\n",
    "        self.tag_description = ET.SubElement(self.tag_main,\"description\")\n",
    "        self.tag_description.text = description\n",
    "        if pubDate is not None:\n",
    "            self.tag_pubDate= ET.SubElement(self.tag_main,\"pubDate\")\n",
    "            self.tag_pubDate.text = pubDate\n",
    "        if guid is not None:\n",
    "            self.tag_guid= ET.SubElement(self.tag_main,\"guid\")\n",
    "            self.tag_guid.text = guid\n",
    "        if url is not None:\n",
    "            self.tag_url= ET.SubElement(self.tag_main,\"url\")\n",
    "            self.tag_url.text = url"
   ]
  },
  {
   "cell_type": "code",
   "execution_count": 10,
   "metadata": {},
   "outputs": [],
   "source": [
    "#Classes for making the very first rss file.\n",
    "#Initial Setup of essential components for an RSS feed.\n",
    "#Call it rss main\n",
    "class rss_main(rss_object):\n",
    "    def __init__(self, title=\"Test: converting a json to an rss file\",link='https://clas12mon.jlab.org/',description='main description',save=False,fileout='out.xml'):\n",
    "        self.type = \"rss_main\"\n",
    "        self.tag_namespace  = ET.Element('rss')\n",
    "        self.tag_namespace.set(\"version\",\"2.0\")\n",
    "        self.tag_channel = ET.SubElement(self.tag_namespace,\"channel\")\n",
    "        #sub objects under channel\n",
    "        rss_object.__init__(self,self.tag_channel, title,link,description)\n",
    "        self.dom=mindom.parseString(ET.tostring(self.tag_namespace))\n",
    "        self.prettyprint=self.dom.toprettyxml()\n",
    "        if fileout is None:\n",
    "            self.fileout = fileout\n",
    "        if save is True:\n",
    "            self.savexml(fileout)\n",
    "#a simple ftn to write rss file    \n",
    "    def savexml(self,fileout=None):\n",
    "        if fileout is None:\n",
    "            fileout=self.fileout\n",
    "        outfile = open(fileout,\"w\")\n",
    "        outfile.write(self.prettyprint)\n",
    "        outfile.close()\n",
    "        \n",
    "# add rss object\n",
    "    def add_item(self, title='item_title',link='https://clas12mon.jlab.org/',description='item_description',pubDate=None,guid=None,url=None,save=False, fileout='out.xml'):\n",
    "        self.tag_item = ET.SubElement(self.tag_channel,\"item\")\n",
    "        self.item = rss_object( self.tag_item,title,link,description, pubDate, guid, url)    \n",
    "        self.dom=mindom.parseString(ET.tostring(self.tag_namespace))\n",
    "        self.prettyprint=self.dom.toprettyxml()\n",
    "        if save is True:\n",
    "            savexml(fileout)     "
   ]
  },
  {
   "cell_type": "code",
   "execution_count": 11,
   "metadata": {},
   "outputs": [],
   "source": [
    "#Modify an rss file existing and add some items\n",
    "class rss_modify(rss_object):\n",
    "    def __init__(self, title='item_title',link='https://clas12mon.jlab.org/',description='item_description',pubDate=None,guid=None,url=None,save=False, item_add = False, filein = 'in.xml', fileout=None):\n",
    "        self.type = \"rss_modify\"\n",
    "        self.tree = ET.parse(filein)\n",
    "        self.tag_namespace = self.tree.getroot()\n",
    "        self.tag_channel = self.tag_namespace[0]\n",
    "        self.filein = filein\n",
    "        self.fileout = fileout\n",
    "        self.tag_item = ET.SubElement(self.tag_channel,\"item\")\n",
    "        self.item = rss_object( self.tag_item,title,link,description, pubDate, guid, url)    \n",
    "#         self.dom=mindom.parseString(ET.tostring(self.tag_namespace))\n",
    "        self.prettyprint=ET.tostring(self.tag_namespace)\n",
    "        if item_add is True:\n",
    "            self.add_item(title,link,description,pubDate,guid,url)\n",
    "        if fileout is None:\n",
    "            self.fileout = self.filein\n",
    "        if save is True:\n",
    "            self.savexml(self.fileout)\n",
    "        \n",
    "    def savexml(self,fileout=None):\n",
    "        if fileout is None:\n",
    "            fileout=self.fileout\n",
    "        outfile = open(fileout,\"w\")\n",
    "        self.prettyprint = nodoublelinebreak(str(self.prettyprint))\n",
    "        if self.prettyprint.find('\\n\\t\\n</rss>')>0:\n",
    "            self.prettyprint=self.prettyprint[:self.prettyprint.find('\\n\\t\\n</rss>')]+self.prettyprint[self.prettyprint.find('\\n\\t\\n</rss>')+2:]\n",
    "        outfile.write(self.prettyprint)\n",
    "        outfile.close()\n",
    "        \n",
    "    def add_item(self, title='item_title',link='https://clas12mon.jlab.org/',description='item_description',pubDate=None,guid=None,url=None,save=False, fileout=None):\n",
    "        self.tag_item = ET.SubElement(self.tag_channel,\"item\")\n",
    "        self.item = rss_object( self.tag_item,title,link,description, pubDate, guid, url)    \n",
    "        self.dom=mindom.parseString(ET.tostring(self.tag_namespace))\n",
    "        self.prettyprint=self.dom.toprettyxml()\n",
    "        self.prettyprint = nodoublelinebreak(str(self.prettyprint))\n",
    "        if self.prettyprint.find('\\n\\t\\n</rss>')>0:\n",
    "            self.prettyprint=self.prettyprint[:self.prettyprint.find('\\n\\t\\n</rss>')]+self.prettyprint[self.prettyprint.find('\\n\\t\\n</rss>')+2:]\n",
    "        if fileout is None:\n",
    "            fileout=self.fileout\n",
    "        if save is True:\n",
    "            savexml(fileout)     "
   ]
  },
  {
   "cell_type": "code",
   "execution_count": 12,
   "metadata": {},
   "outputs": [],
   "source": [
    "# Create one web summary from main(xml) with style(xsl) file\n",
    "#https://www.w3schools.com/xml/xml_xslt.asp\n",
    "#https://www.geeksforgeeks.org/displaying-xml-using-xslt/\n",
    "#https://www.w3schools.com/xml/xml_namespaces.asp\n",
    "class xml_object:\n",
    "    def __init__(self,tag_main, tag_sub_title=\"subtag_title\", tag_sub_text=\"subtag_text\"):\n",
    "        self.type='xml_object'\n",
    "        self.tag_sub_title = tag_sub_title\n",
    "        self.tag_sub_text = tag_sub_text\n",
    "        self.tag_main = tag_main\n",
    "        self.tag_sub = ET.SubElement(self.tag_main,tag_sub_title)\n",
    "        self.tag_sub.text = tag_sub_text\n",
    "\n",
    "#create one dictionary into one xml file\n",
    "#xsl file is versatile\n",
    "class xml_main(xml_object):\n",
    "    def __init__(self, save=False, fileout='out.xml'):\n",
    "        self.type = \"xml_main\"\n",
    "        self.fileout=fileout        \n",
    "        self.tag_workflow = ET.Element(\"CLAS_12_WORKFLOW\")\n",
    "        self.dom=mindom.parseString(ET.tostring(self.tag_workflow))\n",
    "#         self.dom=mindom.parseString(ET.tostring(self.tag_namespace))#,encoding=\"UTF-8\"))\n",
    "        self.prettyprint=self.dom.toprettyxml()\n",
    "        if save is True:\n",
    "            self.savexml(self.fileout)\n",
    "    \n",
    "    def savexml(self,fileout=None):\n",
    "        if fileout==None:\n",
    "            fileout=self.fileout\n",
    "        outfile = open(fileout,\"w\")\n",
    "        count=0\n",
    "        for i in range(0,len(self.prettyprint)):\n",
    "            if count >0 :\n",
    "                break\n",
    "            if '\\n'==self.prettyprint[i]:\n",
    "                self.prettyprint= self.prettyprint[0:i]+'\\n<?xml-stylesheet type=\\\"text/xsl\\\" href=\\\"clas_workflow_style.xsl\\\" ?>\\n'+self.prettyprint[i+1:]\n",
    "                count +=1\n",
    "        outfile.write(unescape(self.prettyprint))\n",
    "        outfile.close()\n",
    "# add xml object\n",
    "    def add_item(self):\n",
    "        self.tag_item = ET.SubElement(self.tag_workflow,\"items\")\n",
    "        \n",
    "    def add_subitem(self, tag_sub_title=\"subtag_title\", tag_sub_text=\"subtag_text\",save=False, fileout=None):\n",
    "        self.item = xml_object( self.tag_item,tag_sub_title, tag_sub_text)    \n",
    "        self.dom=mindom.parseString(ET.tostring(self.tag_workflow,encoding=\"UTF-8\"))\n",
    "        self.prettyprint=self.dom.toprettyxml()\n",
    "        if fileout is None:\n",
    "            fileout=self.fileout\n",
    "        if save is True:\n",
    "            savexml(fileout)"
   ]
  },
  {
   "cell_type": "code",
   "execution_count": 14,
   "metadata": {},
   "outputs": [],
   "source": [
    "# initial setup\n",
    "xmlmain = xml_main()\n",
    "# sort the keys and items in alphabetical order\n",
    "# Main Loop\n",
    "for keys, values in sorted(data.items()):\n",
    "    if type(values) is list:\n",
    "        for subkeysvalues in values:\n",
    "            xmlmain.add_item()\n",
    "            subkeys = str(subkeysvalues.keys()[0])\n",
    "            xmlmain.add_subitem('name',keys+':  '+subkeys)\n",
    "            subvalues = list_to_data(subkeysvalues.values())\n",
    "            if type(subvalues) is list:\n",
    "                string=''\n",
    "                for text in subvalues:\n",
    "                    string=string+text+\"&#xD;\"\n",
    "                xmlmain.add_subitem('value',str(string))\n",
    "            else:\n",
    "                xmlmain.add_subitem('value',str(subvalues))\n",
    "    else:\n",
    "        xmlmain.add_item()\n",
    "        if keys[-3:]==\"_ts\":\n",
    "            xmlmain.add_subitem('milliseconds','%03d'%(values%1000))\n",
    "            values=time.strftime(\"%a, %d %b %Y %H:%M:%S\", time.gmtime(values/1000.))\n",
    "        values= str(values)\n",
    "        xmlmain.add_subitem('name',keys)\n",
    "        xmlmain.add_subitem('value',values)\n",
    "\n",
    "xmlmain.savexml(\"trial.xml\")"
   ]
  },
  {
   "cell_type": "code",
   "execution_count": 59,
   "metadata": {},
   "outputs": [],
   "source": [
    "main=rss_main(title=\"JSON to RSS\")"
   ]
  },
  {
   "cell_type": "code",
   "execution_count": 60,
   "metadata": {},
   "outputs": [],
   "source": [
    "main.add_item(title=\"Jobs \" + str(data[\"jobs\"]),link='https://web.mit.edu/sangbaek/Public/trial.xml' ,description=\"Go to Link\", pubDate=time.strftime(\"%a, %d %b %Y %H:%M:%S\", time.gmtime(data[\"update_ts\"]/1000))  )"
   ]
  },
  {
   "cell_type": "code",
   "execution_count": 61,
   "metadata": {},
   "outputs": [],
   "source": [
    "main.savexml('test.xml')"
   ]
  },
  {
   "cell_type": "code",
   "execution_count": 226,
   "metadata": {},
   "outputs": [],
   "source": [
    "a=rss_modify(filein='test.xml')"
   ]
  },
  {
   "cell_type": "code",
   "execution_count": 227,
   "metadata": {},
   "outputs": [],
   "source": [
    "a.add_item(title=\"Jobs\" + str(data[\"jobs\"]*0+1), description=str(data), pubDate=time.strftime(\"%a, %d %b %Y %H:%M:%S\", time.gmtime(data[\"update_ts\"]/1000))  )"
   ]
  },
  {
   "cell_type": "code",
   "execution_count": 228,
   "metadata": {},
   "outputs": [],
   "source": [
    "a.savexml('test.xml')"
   ]
  },
  {
   "cell_type": "code",
   "execution_count": 75,
   "metadata": {},
   "outputs": [],
   "source": [
    "string='abc\\n\\t\\n\\tdefg'"
   ]
  },
  {
   "cell_type": "code",
   "execution_count": 230,
   "metadata": {},
   "outputs": [
    {
     "data": {
      "text/plain": [
       "'abc\\n\\tdefg'"
      ]
     },
     "execution_count": 230,
     "metadata": {},
     "output_type": "execute_result"
    }
   ],
   "source": [
    "nodoublelinebreak(string)"
   ]
  },
  {
   "cell_type": "code",
   "execution_count": 76,
   "metadata": {},
   "outputs": [
    {
     "data": {
      "text/plain": [
       "'abc\\n\\t\\n\\tdef'"
      ]
     },
     "execution_count": 76,
     "metadata": {},
     "output_type": "execute_result"
    }
   ],
   "source": [
    "string[:-1]"
   ]
  },
  {
   "cell_type": "code",
   "execution_count": 100,
   "metadata": {},
   "outputs": [],
   "source": [
    "s='\\&#xD;'"
   ]
  },
  {
   "cell_type": "code",
   "execution_count": 42,
   "metadata": {},
   "outputs": [
    {
     "data": {
      "text/plain": [
       "'0'"
      ]
     },
     "execution_count": 42,
     "metadata": {},
     "output_type": "execute_result"
    }
   ],
   "source": [
    "str(4000%1000)"
   ]
  },
  {
   "cell_type": "code",
   "execution_count": 101,
   "metadata": {},
   "outputs": [
    {
     "name": "stdout",
     "output_type": "stream",
     "text": [
      "\\&#xD;\n"
     ]
    }
   ],
   "source": [
    "print s"
   ]
  },
  {
   "cell_type": "code",
   "execution_count": null,
   "metadata": {},
   "outputs": [],
   "source": []
  }
 ],
 "metadata": {
  "kernelspec": {
   "display_name": "Python 2",
   "language": "python",
   "name": "python2"
  },
  "language_info": {
   "codemirror_mode": {
    "name": "ipython",
    "version": 2
   },
   "file_extension": ".py",
   "mimetype": "text/x-python",
   "name": "python",
   "nbconvert_exporter": "python",
   "pygments_lexer": "ipython2",
   "version": "2.7.15"
  }
 },
 "nbformat": 4,
 "nbformat_minor": 2
}
