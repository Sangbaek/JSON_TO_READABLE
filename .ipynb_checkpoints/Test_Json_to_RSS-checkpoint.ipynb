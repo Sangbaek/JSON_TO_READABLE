{
 "cells": [
  {
   "cell_type": "code",
   "execution_count": 1,
   "metadata": {},
   "outputs": [],
   "source": [
    "import sys, os, subprocess, argparse, time\n",
    "import json as json\n",
    "import xml.etree.ElementTree as ET\n",
    "import xml.dom.minidom as mindom\n",
    "\n",
    "#json and xml modules are already standard at python >2.6\n",
    "#Sangbaek Lee, Jan. 30 2019\n",
    "#keep every digit in epochtime in the stamps\n",
    "#do not use 3rd party libraries if possible e.g. pip"
   ]
  },
  {
   "cell_type": "code",
   "execution_count": 2,
   "metadata": {},
   "outputs": [],
   "source": [
    "#jsonfilename= 'convert_this_to_XML.json'\n",
    "jsonfilename='original.json'\n",
    "jsonfile = open(jsonfilename,'r')"
   ]
  },
  {
   "cell_type": "code",
   "execution_count": 3,
   "metadata": {},
   "outputs": [],
   "source": [
    "# validate/parse a json file \n",
    "def json_data(myjsonfile):\n",
    "  try:\n",
    "    json_data = json.load(myjsonfile)\n",
    "  except ValueError, e:\n",
    "    return False\n",
    "  return json_data"
   ]
  },
  {
   "cell_type": "code",
   "execution_count": 4,
   "metadata": {},
   "outputs": [],
   "source": [
    "data = json_data(jsonfile)\n",
    "jsonfile.close()\n",
    "if data is False:\n",
    "    print 'The input file is not a proper json configuration. Check the input file.'\n",
    "    exit()"
   ]
  },
  {
   "cell_type": "code",
   "execution_count": 5,
   "metadata": {},
   "outputs": [],
   "source": [
    "# the json file contains square brackets, unnecessary in some senses.\n",
    "# following function removes all the unnecessary square brackets, i.e. if len(list)=1 then list=list[0] iteratively.\n",
    "\n",
    "def list_to_data(data):\n",
    "    dummy=data\n",
    "    while type(dummy) is list and len(dummy)==1:\n",
    "        if len(dummy)==1:\n",
    "            dummy = dummy[0]         \n",
    "    return dummy\n",
    "\n",
    "data = list_to_data(data)\n",
    "# i=0\n",
    "# data = dummy\n",
    "# print 'There are %d unneccessary square bracket(s).'%i\n",
    "# print 'The default is to ignore these brackets. Turn the flag on for BLAHBLAH(TODO)'"
   ]
  },
  {
   "cell_type": "code",
   "execution_count": 6,
   "metadata": {},
   "outputs": [
    {
     "name": "stdout",
     "output_type": "stream",
     "text": [
      "True\n"
     ]
    }
   ],
   "source": [
    "# check the data is restored from json file as dictionary\n",
    "print type(data) is dict"
   ]
  },
  {
   "cell_type": "code",
   "execution_count": 7,
   "metadata": {},
   "outputs": [
    {
     "name": "stdout",
     "output_type": "stream",
     "text": [
      "attempts 2479\n",
      "auger_active 1\n",
      "auger_depend 461\n",
      "create_ts 1548815074000\n",
      "current_ts 1548882608000\n",
      "dispatched 462\n",
      "jobs 64076\n",
      "phase 2\n",
      "succeeded 1957\n",
      "tags [{u'task': [u'decode']}, {u'run': [u'003432', u'003434', u'003435', u'003442', u'003465', u'003480', u'003482', u'003485', u'003488', u'003490', u'003506', u'003512', u'003513', u'003529', u'003530', u'003532', u'003533', u'003534', u'003535', u'003538', u'003540', u'003544', u'003545', u'003547', u'004021']}, {u'coatjava': [u'/group/clas12/packages/coatjava-6b.0.0']}, {u'run_group': [u'rga']}, {u'workDir': [u'/volatile/clas12/rga/production/decoding/6b.0.0']}, {u'mode': [u'decode', u'merge', u'delete', u'move']}, {u'outDir': [u'/cache/mss/clas12/rg-a/production/decoded/6b.0.0']}]\n",
      "undispatched 61657\n",
      "update_ts 1548882307000\n",
      "workflow_id 93294\n",
      "workflow_name rga-decode1_R3432x25_x1300\n",
      "workflow_user clas12\n"
     ]
    }
   ],
   "source": [
    "for keys, values in sorted(data.items()):\n",
    "    print keys, values"
   ]
  },
  {
   "cell_type": "code",
   "execution_count": 148,
   "metadata": {},
   "outputs": [],
   "source": [
    "#rss follows xml format with very specific tags: title, link, description(required) + some optional tags (e.g. media, pubDate, guid, url,...)\n",
    "class rss_object:\n",
    "    def __init__(self, tag_main, title='Test',link='https://clas12mon.jlab.org/',description='description',pubDate=None,guid=None,url=None):\n",
    "        self.tag_main= tag_main\n",
    "        self.tag_title= ET.SubElement(self.tag_main,\"title\")\n",
    "        self.tag_title.text = title\n",
    "        self.tag_link = ET.SubElement(self.tag_main,\"link\")\n",
    "        self.tag_link.text = link\n",
    "        self.tag_description = ET.SubElement(self.tag_main,\"description\")\n",
    "        self.tag_description.text = description\n",
    "        if pubDate is not None:\n",
    "            self.tag_pubDate= ET.SubElement(self.tag_main,\"pubDate\")\n",
    "            self.tag_pubDate.text = pubDate\n",
    "        if guid is not None:\n",
    "            self.tag_guid= ET.SubElement(self.tag_main,\"guid\")\n",
    "            self.tag_guid.text = guid\n",
    "        if url is not None:\n",
    "            self.tag_url= ET.SubElement(self.tag_main,\"url\")\n",
    "            self.tag_url.text = url\n",
    "            \n",
    "#Classes for making the very first rss file.\n",
    "#Initial Setup of essential components for an RSS feed.\n",
    "#Call it rss main\n",
    "class rss_main(rss_object):\n",
    "    def __init__(self, title=\"Test: converting a json to an rss file\",link='https://clas12mon.jlab.org/',description='main description',save=False,fileout='out.xml'):\n",
    "        self.tag_namespace  = ET.Element('rss')\n",
    "        self.tag_namespace.set(\"version\",\"2.0\")\n",
    "        self.tag_channel = ET.SubElement(self.tag_namespace,\"channel\")\n",
    "        #sub objects under channel\n",
    "        rss_object.__init__(self,self.tag_channel, title,link,description)\n",
    "        self.dom=mindom.parseString(ET.tostring(self.tag_namespace))\n",
    "        self.prettyprint=self.dom.toprettyxml()\n",
    "        if fileout is None:\n",
    "            self.fileout = self.filein\n",
    "        if save is True:\n",
    "            self.savexml(fileout)\n",
    "#a simple ftn to write rss file    \n",
    "    def savexml(self,fileout=None):\n",
    "        outfile = open(fileout,\"w\")\n",
    "        outfile.write(self.prettyprint)\n",
    "        outfile.close()\n",
    "        \n",
    "# add rss file\n",
    "    def add_item(self, title='item_title',link='https://clas12mon.jlab.org/',description='item_description',pubDate=None,guid=None,url=None,save=False, fileout='out.xml'):\n",
    "        self.tag_item = ET.SubElement(self.tag_channel,\"item\")\n",
    "        self.item = rss_object( self.tag_item,title,link,description, pubDate, guid, url)    \n",
    "        self.dom=mindom.parseString(ET.tostring(self.tag_namespace))\n",
    "        self.prettyprint=self.dom.toprettyxml()\n",
    "        if save is True:\n",
    "            savexml(fileout)     \n",
    "\n",
    "#Modify an rss file existing and add some items\n",
    "class rss_modify(rss_object):\n",
    "    def __init__(self, title='item_title',link='https://clas12mon.jlab.org/',description='item_description',pubDate=None,guid=None,url=None,save=False, item_add = False, filein = 'in.xml', fileout=None):\n",
    "        self.tree = ET.parse(filein)\n",
    "        self.tag_namespace = self.tree.getroot()\n",
    "        self.tag_channel = self.tag_namespace[0]\n",
    "        self.filein = filein\n",
    "        self.fileout = fileout\n",
    "        if item_add is True:\n",
    "            self.add_item(title,link,description,pubDate,guid,url)\n",
    "        if fileout is None:\n",
    "            self.fileout = self.filein\n",
    "        if save is True:\n",
    "            self.savexml(self.fileout)\n",
    "        \n",
    "    def savexml(self,fileout=None):\n",
    "        if fileout is None:\n",
    "            fileout=self.fileout\n",
    "        outfile = open(fileout,\"w\")\n",
    "        outfile.write(self.prettyprint)\n",
    "        outfile.close()\n",
    "        \n",
    "    def add_item(self, title='item_title',link='https://clas12mon.jlab.org/',description='item_description',pubDate=None,guid=None,url=None,save=False, fileout=None):\n",
    "        self.tag_item = ET.SubElement(self.tag_channel,\"item\")\n",
    "        self.item = rss_object( self.tag_item,title,link,description, pubDate, guid, url)    \n",
    "        self.dom=mindom.parseString(ET.tostring(self.tag_namespace))\n",
    "        self.prettyprint=self.dom.toprettyxml()\n",
    "        if fileout is None:\n",
    "            fileout=self.fileout\n",
    "        if save is True:\n",
    "            savexml(fileout)     "
   ]
  },
  {
   "cell_type": "code",
   "execution_count": 102,
   "metadata": {},
   "outputs": [],
   "source": [
    "class xml_object:\n",
    "    def __init__(self):\n",
    "        self.type='xml_object'\n",
    "        \n",
    "class xls_object:\n",
    "    def __init__(self):\n",
    "        self.type='xslt_object'\n",
    "    "
   ]
  },
  {
   "cell_type": "code",
   "execution_count": 29,
   "metadata": {},
   "outputs": [],
   "source": [
    "# sort the keys and items in alphabetical order\n",
    "# Main Loop\n",
    "# for keys, values in sorted(data.items()):\n",
    "#     if type(values) is list:\n",
    "#         item = ET.SubElement(RSS_channel,\"item\")\n",
    "#         item_title = ET.SubElement(item, \"title\")\n",
    "#         item_title.text= keys\n",
    "#         item_link = ET.SubElement(item, \"link\")\n",
    "#         item_link.text = \"Not sure about a link\"\n",
    "#         item_description = ET.SubElement(item, \"description\")\n",
    "#         for i in range(0,len(values)):\n",
    "#             if type(list_to_data(values[i].values())) is list:\n",
    "#                 for texts in list_to_data(values[i].values()):\n",
    "#                     if texts is not unicode :\n",
    "#                         texts = str(texts)\n",
    "#                     SubElement2 = ET.SubElement(item,list_to_data(values[i].keys()) )\n",
    "#                     SubElement2.text= texts\n",
    "#             elif type(list_to_data(values[i].values())) is not unicode:\n",
    "#                 texts=str(list_to_data(values[i].values()))\n",
    "#             SubElement2 = ET.SubElement(item,item)\n",
    "#             SubElement2.text= texts\n",
    "#     else:\n",
    "#        SubElement= ET.SubElement(RSS_channel,keys)\n",
    "#     if type(values) is not list:\n",
    "#         item= ET.SubElement(RSS_channel,\"item\")\n",
    "#         item_title = ET.SubElement(item,\"title\")\n",
    "#         item_title.text = keys\n",
    "#         item_link = ET.SubElement(item, \"link\")\n",
    "#         item_link.text = \"Not sure about a link\"\n",
    "#         if type(values) is not unicode:\n",
    "#             values=str(values)\n",
    "#         item_description = ET.SubElement(item,\"description\")\n",
    "#         if keys[-3:]==\"_ts\":\n",
    "#             values=time.strftime(\"%a, %d %b %Y %H:%M:%S\", time.gmtime(1548882307000/1000.))+'%03d'%(1548882307001%1000)\n",
    "#         item_description.text=values\n"
   ]
  },
  {
   "cell_type": "code",
   "execution_count": 149,
   "metadata": {},
   "outputs": [],
   "source": [
    "main=rss_main(title=\"JSON to XML1\",save=True, fileout='test.xml')"
   ]
  },
  {
   "cell_type": "code",
   "execution_count": 150,
   "metadata": {},
   "outputs": [],
   "source": [
    "main.add_item(title=\"Jobs\" + str(data[\"jobs\"]), description=str(data), pubDate=time.strftime(\"%a, %d %b %Y %H:%M:%S\", time.gmtime(data[\"update_ts\"]/1000))  )"
   ]
  },
  {
   "cell_type": "code",
   "execution_count": 151,
   "metadata": {},
   "outputs": [],
   "source": [
    "main.savexml('test.xml')"
   ]
  },
  {
   "cell_type": "code",
   "execution_count": 152,
   "metadata": {},
   "outputs": [],
   "source": [
    "a=rss_modify(filein='test.xml')"
   ]
  },
  {
   "cell_type": "code",
   "execution_count": 153,
   "metadata": {},
   "outputs": [],
   "source": [
    "a.add_item(title=\"Jobs\" + str(data[\"jobs\"]*0+1), description=str(data), pubDate=time.strftime(\"%a, %d %b %Y %H:%M:%S\", time.gmtime(data[\"update_ts\"]/1000))  )"
   ]
  },
  {
   "cell_type": "code",
   "execution_count": 154,
   "metadata": {},
   "outputs": [],
   "source": [
    "a.savexml()"
   ]
  },
  {
   "cell_type": "code",
   "execution_count": 156,
   "metadata": {},
   "outputs": [],
   "source": [
    "#https://www.w3schools.com/xml/xml_xslt.asp\n",
    "#https://www.geeksforgeeks.org/displaying-xml-using-xslt/\n",
    "#https://www.w3schools.com/xml/xml_namespaces.asp"
   ]
  },
  {
   "cell_type": "code",
   "execution_count": null,
   "metadata": {},
   "outputs": [],
   "source": []
  }
 ],
 "metadata": {
  "kernelspec": {
   "display_name": "Python 2",
   "language": "python",
   "name": "python2"
  },
  "language_info": {
   "codemirror_mode": {
    "name": "ipython",
    "version": 2
   },
   "file_extension": ".py",
   "mimetype": "text/x-python",
   "name": "python",
   "nbconvert_exporter": "python",
   "pygments_lexer": "ipython2",
   "version": "2.7.15"
  }
 },
 "nbformat": 4,
 "nbformat_minor": 2
}
